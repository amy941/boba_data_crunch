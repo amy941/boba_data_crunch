{
  "nbformat": 4,
  "nbformat_minor": 0,
  "metadata": {
    "colab": {
      "provenance": []
    },
    "kernelspec": {
      "name": "python3",
      "display_name": "Python 3"
    },
    "language_info": {
      "name": "python"
    }
  },
  "cells": [
    {
      "cell_type": "code",
      "execution_count": null,
      "metadata": {
        "colab": {
          "base_uri": "https://localhost:8080/",
          "height": 70
        },
        "id": "tMkQZBscen6d",
        "outputId": "f2f89c91-ab15-4e78-e43a-a06f79044490",
        "collapsed": true
      },
      "outputs": [
        {
          "output_type": "execute_result",
          "data": {
            "text/plain": [
              "'\\nVieNa Tea House runs a Buy 2 Get 1 Free deal on the first Tuesday of each month through their website.\\nCustomers have limited time to complete their orders.\\n\\nWrite a function that starts a 10-minute countdown, using a while loop and sleep(). For each minute:\\n\\nPrint how many minutes remain as an Integer.\\n\\nAt 5 minutes, print: \"⏰ Clock is ticking. Finishing up your order! 5 minutes remaining.\"\\n\\nAt 2 minutes, print: \"⚠️ Don\\'t lose the reward! 2 minutes remaining.\"\\n\\nAt 0 minutes, print: \"❌ User timed out. Please try again!\"\\n'"
            ],
            "application/vnd.google.colaboratory.intrinsic+json": {
              "type": "string"
            }
          },
          "metadata": {},
          "execution_count": 1
        }
      ],
      "source": [
        "'''\n",
        "VieNa Tea House runs a Buy 2 Get 1 Free deal on the first Tuesday of each month through their website.\n",
        "Customers have limited time to complete their orders.\n",
        "\n",
        "Write a function that starts a 10-minute countdown, using a while loop and sleep(). For each minute:\n",
        "\n",
        "Print how many minutes remain as an Integer.\n",
        "\n",
        "At 5 minutes, print: \"⏰ Clock is ticking. Finishing up your order! 5 minutes remaining.\"\n",
        "\n",
        "At 2 minutes, print: \"⚠️ Don't lose the reward! 2 minutes remaining.\"\n",
        "\n",
        "At 0 minutes, print: \"❌ User timed out. Please try again!\"\n",
        "'''"
      ]
    },
    {
      "cell_type": "code",
      "source": [
        "from time import sleep\n",
        "\n",
        "mins = 10\n",
        "\n",
        "while mins >= 0:\n",
        "    if mins == 5:\n",
        "        print('⏰ Clock is ticking. Finishing up your order! 5 minutes remaining.')\n",
        "    elif mins == 2:\n",
        "        print('⚠️ Don\\'t lose the reward! 2 minutes remaining.')\n",
        "    elif mins == 0:\n",
        "        print('❌ User timed out. Please try again!')\n",
        "    else:\n",
        "        print(mins)\n",
        "\n",
        "    mins -=1\n",
        "    sleep(1)"
      ],
      "metadata": {
        "colab": {
          "base_uri": "https://localhost:8080/"
        },
        "id": "hIbc9Alke0tQ",
        "outputId": "cf96e760-50e2-46a3-cb4c-ff2b0a641474"
      },
      "execution_count": null,
      "outputs": [
        {
          "output_type": "stream",
          "name": "stdout",
          "text": [
            "10\n",
            "9\n",
            "8\n",
            "7\n",
            "6\n",
            "⏰ Clock is ticking. Finishing up your order! 5 minutes remaining.\n",
            "4\n",
            "3\n",
            "⚠️ Don't lose the reward! 2 minutes remaining.\n",
            "1\n",
            "❌ User timed out. Please try again!\n"
          ]
        }
      ]
    },
    {
      "cell_type": "code",
      "source": [
        "'''\n",
        "VieNa Tea House collected customer ratings (1–10) for their new Crème Brûlée Milk Tea, where 10 is the best.\n",
        "They want to classify the feedback into three categories:\n",
        "\n",
        "Negative (scores of 1-5)\n",
        "Neutral (scores of 6-8)\n",
        "Positive (scores of 9-10)\n",
        "\n",
        "Write a function score_feedback(score_list) that takes a list of integer scores and counts how many fall into each category.\n",
        "\n",
        "The output of the function must be three statements, each on its own line:\n",
        "\n",
        "'Negative: {number_of_negative_scores}'\n",
        "'Neutral: {number_of_neutral_scores}'\n",
        "'Positive: {number_of_positive_scores}'\n",
        "'''"
      ],
      "metadata": {
        "colab": {
          "base_uri": "https://localhost:8080/",
          "height": 70
        },
        "id": "-e2NlOaLe976",
        "outputId": "1c51584e-12b4-46eb-f91c-0023e4240f23",
        "collapsed": true
      },
      "execution_count": null,
      "outputs": [
        {
          "output_type": "execute_result",
          "data": {
            "text/plain": [
              "\"\\nVieNa Tea House collected customer ratings (1–10) for their new Crème Brûlée Milk Tea, where 10 is the best. \\nThey want to classify the feedback into three categories:\\n\\nNegative (scores of 1-5)\\nNeutral (scores of 6-8)\\nPositive (scores of 9-10)\\n\\nWrite a function score_feedback(score_list) that takes a list of integer scores and counts how many fall into each category.\\n\\nThe output of the function must be three statements, each on its own line:\\n\\n'Negative: {number_of_negative_scores}'\\n'Neutral: {number_of_neutral_scores}'\\n'Positive: {number_of_positive_scores}'\\n\""
            ],
            "application/vnd.google.colaboratory.intrinsic+json": {
              "type": "string"
            }
          },
          "metadata": {},
          "execution_count": 3
        }
      ]
    },
    {
      "cell_type": "code",
      "source": [
        "def customer_feedback(score_list):\n",
        "    negative_scores = 0\n",
        "    neutral_scores = 0\n",
        "    positive_scores = 0\n",
        "\n",
        "    for score in score_list:\n",
        "        if score >= 9:\n",
        "            positive_scores += 1\n",
        "        elif score >= 6:\n",
        "            neutral_scores += 1\n",
        "        else:\n",
        "            negative_scores += 1\n",
        "\n",
        "    print('😋 Yummy:', positive_scores)\n",
        "    print('😐 So-so:', neutral_scores)\n",
        "    print('🤢 Bad:', negative_scores)"
      ],
      "metadata": {
        "id": "ayeaMEWEe-zw"
      },
      "execution_count": 3,
      "outputs": []
    },
    {
      "cell_type": "code",
      "source": [
        "score_list1 = [9, 8, 6, 5, 6, 10, 4, 5, 9, 7, 6, 9]\n",
        "score_list2 = [7, 8, 8, 10, 6, 5, 8, 8, 9, 6, 10, 10]\n",
        "score_list3 = [10, 10, 8, 6, 5, 9, 8, 8, 7, 6, 10, 10]\n",
        "\n",
        "print('1)Feedback 1:')\n",
        "customer_feedback(score_list1)\n",
        "print('\\n2)Feedback 2:')\n",
        "customer_feedback(score_list2)\n",
        "print('\\n3)Feedback 3:')\n",
        "customer_feedback(score_list3)"
      ],
      "metadata": {
        "colab": {
          "base_uri": "https://localhost:8080/"
        },
        "id": "bWuOAhV9e-31",
        "outputId": "2859ff78-e3e1-456d-9284-c11e5e7b5591"
      },
      "execution_count": 5,
      "outputs": [
        {
          "output_type": "stream",
          "name": "stdout",
          "text": [
            "1)Feedback 1:\n",
            "😋 Yummy: 4\n",
            "😐 So-so: 5\n",
            "🤢 Bad: 3\n",
            "\n",
            "2)Feedback 2:\n",
            "😋 Yummy: 4\n",
            "😐 So-so: 7\n",
            "🤢 Bad: 1\n",
            "\n",
            "3)Feedback 3:\n",
            "😋 Yummy: 5\n",
            "😐 So-so: 6\n",
            "🤢 Bad: 1\n"
          ]
        }
      ]
    },
    {
      "cell_type": "code",
      "source": [
        "# END."
      ],
      "metadata": {
        "id": "0rQ331mte--j"
      },
      "execution_count": null,
      "outputs": []
    },
    {
      "cell_type": "code",
      "source": [],
      "metadata": {
        "id": "c0nyqb_0e_B-"
      },
      "execution_count": null,
      "outputs": []
    },
    {
      "cell_type": "code",
      "source": [],
      "metadata": {
        "id": "nNNhu9B3e_GG"
      },
      "execution_count": null,
      "outputs": []
    },
    {
      "cell_type": "code",
      "source": [],
      "metadata": {
        "id": "PVpQhFh5e_JP"
      },
      "execution_count": null,
      "outputs": []
    },
    {
      "cell_type": "code",
      "source": [],
      "metadata": {
        "id": "lCUBtzBoe_MY"
      },
      "execution_count": null,
      "outputs": []
    },
    {
      "cell_type": "code",
      "source": [],
      "metadata": {
        "id": "NaIDkBjGe-FS"
      },
      "execution_count": null,
      "outputs": []
    },
    {
      "cell_type": "code",
      "source": [],
      "metadata": {
        "id": "UIn9hM01e-PE"
      },
      "execution_count": null,
      "outputs": []
    }
  ]
}