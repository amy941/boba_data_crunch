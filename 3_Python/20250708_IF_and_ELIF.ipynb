{
  "nbformat": 4,
  "nbformat_minor": 0,
  "metadata": {
    "colab": {
      "provenance": []
    },
    "kernelspec": {
      "name": "python3",
      "display_name": "Python 3"
    },
    "language_info": {
      "name": "python"
    }
  },
  "cells": [
    {
      "cell_type": "code",
      "execution_count": 1,
      "metadata": {
        "colab": {
          "base_uri": "https://localhost:8080/"
        },
        "id": "IX4br9pVijnV",
        "outputId": "aa43c5e1-d4ae-48c4-abb9-b47b98f317cd"
      },
      "outputs": [
        {
          "output_type": "stream",
          "name": "stdout",
          "text": [
            "Category D\n",
            "No Discount\n",
            "Category C\n",
            "Category B\n"
          ]
        }
      ],
      "source": [
        "def discount_category (order_cost):\n",
        "    if order_cost == 6.25:\n",
        "        print('Category A')\n",
        "    elif 15.50 <= order_cost <= 20.50:\n",
        "        print('Category B')\n",
        "    elif 20.50 <= order_cost <= 30.5:\n",
        "        print('Category C')\n",
        "    elif order_cost >= 30.50:\n",
        "        print('Category D')\n",
        "    else:\n",
        "        print('No Discount')\n",
        "\n",
        "# Example:\n",
        "discount_category(60.50)\n",
        "discount_category(5.50)\n",
        "discount_category(25.75)\n",
        "discount_category(19.75)"
      ]
    },
    {
      "cell_type": "code",
      "source": [
        "'''\n",
        "If a customer bought 10 or more drinks, they get a Free Drink.\n",
        "\n",
        "If they bought 5 or more drinks, they grant 5% off on their next drink.\n",
        "\n",
        "Otherwise, no reward.\n",
        "'''"
      ],
      "metadata": {
        "id": "fWpDBK6FileD"
      },
      "execution_count": null,
      "outputs": []
    },
    {
      "cell_type": "code",
      "source": [
        "def reward_customer(num_drinks, discount_threshold, free_drink_threshold):\n",
        "    if num_drinks >= free_drink_threshold:\n",
        "        print('🎉Congrats! You earn 1 free drink.')\n",
        "    elif num_drinks >= discount_threshold:\n",
        "        print('👏Congrats! 5% off on your next drink.')\n",
        "    else:\n",
        "        print('🍵 Keep sipping! Good luck next time!')\n",
        "\n",
        "# Example:\n",
        "reward_customer(12, discount_threshold=5, free_drink_threshold=10)  # 1 free\n",
        "reward_customer(6, discount_threshold=5, free_drink_threshold=10)   # 5% off\n",
        "reward_customer(3, discount_threshold=5, free_drink_threshold=10)   # None"
      ],
      "metadata": {
        "colab": {
          "base_uri": "https://localhost:8080/"
        },
        "id": "VVrw19O4ilgx",
        "outputId": "8e13e7fb-f8b8-4b2e-9cd1-482f9a7d2804"
      },
      "execution_count": 2,
      "outputs": [
        {
          "output_type": "stream",
          "name": "stdout",
          "text": [
            "🎉Congrats! You earn 1 free drink.\n",
            "👏Congrats! 5% off on your next drink.\n",
            "🍵 Keep sipping! Good luck next time!\n"
          ]
        }
      ]
    },
    {
      "cell_type": "code",
      "source": [
        "# END."
      ],
      "metadata": {
        "id": "f6nn1Py7iljw"
      },
      "execution_count": null,
      "outputs": []
    },
    {
      "cell_type": "code",
      "source": [],
      "metadata": {
        "id": "107yWINBilm2"
      },
      "execution_count": null,
      "outputs": []
    },
    {
      "cell_type": "code",
      "source": [],
      "metadata": {
        "id": "VfG6TrnMilpQ"
      },
      "execution_count": null,
      "outputs": []
    },
    {
      "cell_type": "code",
      "source": [],
      "metadata": {
        "id": "WMWYu_mTilsV"
      },
      "execution_count": null,
      "outputs": []
    },
    {
      "cell_type": "code",
      "source": [],
      "metadata": {
        "id": "IJSPeDxxilu8"
      },
      "execution_count": null,
      "outputs": []
    },
    {
      "cell_type": "code",
      "source": [],
      "metadata": {
        "id": "wE_NeECYilx-"
      },
      "execution_count": null,
      "outputs": []
    },
    {
      "cell_type": "code",
      "source": [],
      "metadata": {
        "id": "TT9-jwc6il0t"
      },
      "execution_count": null,
      "outputs": []
    },
    {
      "cell_type": "code",
      "source": [],
      "metadata": {
        "id": "qaHrmuAVil4V"
      },
      "execution_count": null,
      "outputs": []
    }
  ]
}