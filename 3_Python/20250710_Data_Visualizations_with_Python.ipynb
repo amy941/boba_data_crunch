{
 "cells": [
  {
   "cell_type": "code",
   "execution_count": 1,
   "metadata": {},
   "outputs": [],
   "source": [
    "import numpy as np\n",
    "import pandas as pd\n",
    "import matplotlib.pyplot as plt\n",
    "import seaborn as sns"
   ]
  },
  {
   "cell_type": "code",
   "execution_count": 2,
   "metadata": {},
   "outputs": [],
   "source": [
    "boba = pd.read_csv(\"Bubble_Tea_Sales.csv\")"
   ]
  },
  {
   "cell_type": "code",
   "execution_count": 3,
   "metadata": {},
   "outputs": [
    {
     "data": {
      "text/html": [
       "<div>\n",
       "<style scoped>\n",
       "    .dataframe tbody tr th:only-of-type {\n",
       "        vertical-align: middle;\n",
       "    }\n",
       "\n",
       "    .dataframe tbody tr th {\n",
       "        vertical-align: top;\n",
       "    }\n",
       "\n",
       "    .dataframe thead th {\n",
       "        text-align: right;\n",
       "    }\n",
       "</style>\n",
       "<table border=\"1\" class=\"dataframe\">\n",
       "  <thead>\n",
       "    <tr style=\"text-align: right;\">\n",
       "      <th></th>\n",
       "      <th>Customer ID</th>\n",
       "      <th>Customer Name</th>\n",
       "      <th>Location Code</th>\n",
       "      <th>Order Location</th>\n",
       "      <th>Qty</th>\n",
       "      <th>Short Order Description</th>\n",
       "      <th>Price per Drink</th>\n",
       "      <th>Order Price</th>\n",
       "      <th>Category</th>\n",
       "      <th>Discount</th>\n",
       "      <th>Total Cost</th>\n",
       "    </tr>\n",
       "  </thead>\n",
       "  <tbody>\n",
       "    <tr>\n",
       "      <th>0</th>\n",
       "      <td>CUST0001</td>\n",
       "      <td>Ava Hoang</td>\n",
       "      <td>1</td>\n",
       "      <td>Saddle Ridge</td>\n",
       "      <td>1</td>\n",
       "      <td>Matcha Latte, Grass Jelly, 30%, 0%</td>\n",
       "      <td>7.75</td>\n",
       "      <td>7.75</td>\n",
       "      <td>A</td>\n",
       "      <td>0.095</td>\n",
       "      <td>7.01375</td>\n",
       "    </tr>\n",
       "    <tr>\n",
       "      <th>1</th>\n",
       "      <td>CUST0002</td>\n",
       "      <td>Liam Pham</td>\n",
       "      <td>1</td>\n",
       "      <td>Saddle Ridge</td>\n",
       "      <td>1</td>\n",
       "      <td>Mango GT, Lychee, 70%, 100%</td>\n",
       "      <td>6.75</td>\n",
       "      <td>6.75</td>\n",
       "      <td>A</td>\n",
       "      <td>0.095</td>\n",
       "      <td>6.10875</td>\n",
       "    </tr>\n",
       "    <tr>\n",
       "      <th>2</th>\n",
       "      <td>CUST0003</td>\n",
       "      <td>Aiden Wong</td>\n",
       "      <td>1</td>\n",
       "      <td>Saddle Ridge</td>\n",
       "      <td>3</td>\n",
       "      <td>Matcha Latte, Grass Jelly, 30%, 0%</td>\n",
       "      <td>7.75</td>\n",
       "      <td>23.25</td>\n",
       "      <td>C</td>\n",
       "      <td>0.115</td>\n",
       "      <td>20.57625</td>\n",
       "    </tr>\n",
       "    <tr>\n",
       "      <th>3</th>\n",
       "      <td>CUST0004</td>\n",
       "      <td>Liam Kim</td>\n",
       "      <td>1</td>\n",
       "      <td>Saddle Ridge</td>\n",
       "      <td>5</td>\n",
       "      <td>Oolong MT, Pearl, 50%, 30%</td>\n",
       "      <td>6.25</td>\n",
       "      <td>31.25</td>\n",
       "      <td>D</td>\n",
       "      <td>0.125</td>\n",
       "      <td>27.34375</td>\n",
       "    </tr>\n",
       "    <tr>\n",
       "      <th>4</th>\n",
       "      <td>CUST0005</td>\n",
       "      <td>Lucas Choi</td>\n",
       "      <td>1</td>\n",
       "      <td>Saddle Ridge</td>\n",
       "      <td>6</td>\n",
       "      <td>Mango GT, Lychee, 70%, 100%</td>\n",
       "      <td>6.75</td>\n",
       "      <td>40.50</td>\n",
       "      <td>D</td>\n",
       "      <td>0.125</td>\n",
       "      <td>35.43750</td>\n",
       "    </tr>\n",
       "  </tbody>\n",
       "</table>\n",
       "</div>"
      ],
      "text/plain": [
       "  Customer ID Customer Name  Location Code Order Location  Qty  \\\n",
       "0    CUST0001     Ava Hoang              1   Saddle Ridge    1   \n",
       "1    CUST0002     Liam Pham              1   Saddle Ridge    1   \n",
       "2    CUST0003    Aiden Wong              1   Saddle Ridge    3   \n",
       "3    CUST0004      Liam Kim              1   Saddle Ridge    5   \n",
       "4    CUST0005    Lucas Choi              1   Saddle Ridge    6   \n",
       "\n",
       "              Short Order Description  Price per Drink  Order Price Category  \\\n",
       "0  Matcha Latte, Grass Jelly, 30%, 0%             7.75         7.75        A   \n",
       "1         Mango GT, Lychee, 70%, 100%             6.75         6.75        A   \n",
       "2  Matcha Latte, Grass Jelly, 30%, 0%             7.75        23.25        C   \n",
       "3          Oolong MT, Pearl, 50%, 30%             6.25        31.25        D   \n",
       "4         Mango GT, Lychee, 70%, 100%             6.75        40.50        D   \n",
       "\n",
       "   Discount  Total Cost  \n",
       "0     0.095     7.01375  \n",
       "1     0.095     6.10875  \n",
       "2     0.115    20.57625  \n",
       "3     0.125    27.34375  \n",
       "4     0.125    35.43750  "
      ]
     },
     "execution_count": 3,
     "metadata": {},
     "output_type": "execute_result"
    }
   ],
   "source": [
    "boba.head()"
   ]
  },
  {
   "cell_type": "code",
   "execution_count": 4,
   "metadata": {},
   "outputs": [
    {
     "data": {
      "text/plain": [
       "(100, 11)"
      ]
     },
     "execution_count": 4,
     "metadata": {},
     "output_type": "execute_result"
    }
   ],
   "source": [
    "boba.shape"
   ]
  },
  {
   "cell_type": "code",
   "execution_count": 5,
   "metadata": {},
   "outputs": [
    {
     "data": {
      "text/plain": [
       "(100, 11)"
      ]
     },
     "execution_count": 5,
     "metadata": {},
     "output_type": "execute_result"
    }
   ],
   "source": [
    "boba.drop_duplicates().shape"
   ]
  },
  {
   "cell_type": "code",
   "execution_count": 6,
   "metadata": {},
   "outputs": [
    {
     "data": {
      "text/plain": [
       "Customer ID                 object\n",
       "Customer Name               object\n",
       "Location Code                int64\n",
       "Order Location              object\n",
       "Qty                          int64\n",
       "Short Order Description     object\n",
       "Price per Drink            float64\n",
       "Order Price                float64\n",
       "Category                    object\n",
       "Discount                   float64\n",
       "Total Cost                 float64\n",
       "dtype: object"
      ]
     },
     "execution_count": 6,
     "metadata": {},
     "output_type": "execute_result"
    }
   ],
   "source": [
    "boba.dtypes"
   ]
  },
  {
   "cell_type": "code",
   "execution_count": 7,
   "metadata": {},
   "outputs": [
    {
     "data": {
      "text/html": [
       "<div>\n",
       "<style scoped>\n",
       "    .dataframe tbody tr th:only-of-type {\n",
       "        vertical-align: middle;\n",
       "    }\n",
       "\n",
       "    .dataframe tbody tr th {\n",
       "        vertical-align: top;\n",
       "    }\n",
       "\n",
       "    .dataframe thead th {\n",
       "        text-align: right;\n",
       "    }\n",
       "</style>\n",
       "<table border=\"1\" class=\"dataframe\">\n",
       "  <thead>\n",
       "    <tr style=\"text-align: right;\">\n",
       "      <th></th>\n",
       "      <th>Customer ID</th>\n",
       "      <th>Customer Name</th>\n",
       "      <th>Location Code</th>\n",
       "      <th>Order Location</th>\n",
       "      <th>Qty</th>\n",
       "      <th>Short Order Description</th>\n",
       "      <th>Price per Drink</th>\n",
       "      <th>Order Price</th>\n",
       "      <th>Category</th>\n",
       "      <th>Discount</th>\n",
       "      <th>Total Cost</th>\n",
       "    </tr>\n",
       "  </thead>\n",
       "  <tbody>\n",
       "    <tr>\n",
       "      <th>5</th>\n",
       "      <td>CUST0006</td>\n",
       "      <td>Ethan Tran</td>\n",
       "      <td>1</td>\n",
       "      <td>Saddle Ridge</td>\n",
       "      <td>7</td>\n",
       "      <td>Straw Yog Slush, Pop Boba, 0%, 30%</td>\n",
       "      <td>7.50</td>\n",
       "      <td>52.5</td>\n",
       "      <td>D</td>\n",
       "      <td>0.125</td>\n",
       "      <td>45.9375</td>\n",
       "    </tr>\n",
       "    <tr>\n",
       "      <th>42</th>\n",
       "      <td>CUST0043</td>\n",
       "      <td>Olivia Hoang</td>\n",
       "      <td>4</td>\n",
       "      <td>Country Hills</td>\n",
       "      <td>6</td>\n",
       "      <td>Matcha Latte, Grass Jelly, 30%, 0%</td>\n",
       "      <td>7.75</td>\n",
       "      <td>46.5</td>\n",
       "      <td>D</td>\n",
       "      <td>0.125</td>\n",
       "      <td>40.6875</td>\n",
       "    </tr>\n",
       "    <tr>\n",
       "      <th>67</th>\n",
       "      <td>CUST0068</td>\n",
       "      <td>Ethan Kim</td>\n",
       "      <td>3</td>\n",
       "      <td>Beltline</td>\n",
       "      <td>6</td>\n",
       "      <td>Oolong MT, Pearl, 50%, 30%</td>\n",
       "      <td>6.25</td>\n",
       "      <td>37.5</td>\n",
       "      <td>D</td>\n",
       "      <td>0.125</td>\n",
       "      <td>32.8125</td>\n",
       "    </tr>\n",
       "    <tr>\n",
       "      <th>48</th>\n",
       "      <td>CUST0049</td>\n",
       "      <td>Aiden Chen</td>\n",
       "      <td>1</td>\n",
       "      <td>Saddle Ridge</td>\n",
       "      <td>6</td>\n",
       "      <td>Straw Yog Slush, Pop Boba, 0%, 30%</td>\n",
       "      <td>7.50</td>\n",
       "      <td>45.0</td>\n",
       "      <td>D</td>\n",
       "      <td>0.125</td>\n",
       "      <td>39.3750</td>\n",
       "    </tr>\n",
       "    <tr>\n",
       "      <th>49</th>\n",
       "      <td>CUST0050</td>\n",
       "      <td>Aiden Lee</td>\n",
       "      <td>1</td>\n",
       "      <td>Saddle Ridge</td>\n",
       "      <td>6</td>\n",
       "      <td>Straw Yog Slush, Pop Boba, 0%, 30%</td>\n",
       "      <td>7.50</td>\n",
       "      <td>45.0</td>\n",
       "      <td>D</td>\n",
       "      <td>0.125</td>\n",
       "      <td>39.3750</td>\n",
       "    </tr>\n",
       "  </tbody>\n",
       "</table>\n",
       "</div>"
      ],
      "text/plain": [
       "   Customer ID Customer Name  Location Code Order Location  Qty  \\\n",
       "5     CUST0006    Ethan Tran              1   Saddle Ridge    7   \n",
       "42    CUST0043  Olivia Hoang              4  Country Hills    6   \n",
       "67    CUST0068     Ethan Kim              3       Beltline    6   \n",
       "48    CUST0049    Aiden Chen              1   Saddle Ridge    6   \n",
       "49    CUST0050     Aiden Lee              1   Saddle Ridge    6   \n",
       "\n",
       "               Short Order Description  Price per Drink  Order Price Category  \\\n",
       "5   Straw Yog Slush, Pop Boba, 0%, 30%             7.50         52.5        D   \n",
       "42  Matcha Latte, Grass Jelly, 30%, 0%             7.75         46.5        D   \n",
       "67          Oolong MT, Pearl, 50%, 30%             6.25         37.5        D   \n",
       "48  Straw Yog Slush, Pop Boba, 0%, 30%             7.50         45.0        D   \n",
       "49  Straw Yog Slush, Pop Boba, 0%, 30%             7.50         45.0        D   \n",
       "\n",
       "    Discount  Total Cost  \n",
       "5      0.125     45.9375  \n",
       "42     0.125     40.6875  \n",
       "67     0.125     32.8125  \n",
       "48     0.125     39.3750  \n",
       "49     0.125     39.3750  "
      ]
     },
     "execution_count": 7,
     "metadata": {},
     "output_type": "execute_result"
    }
   ],
   "source": [
    "# Top 5 Customers ordered the most drinks\n",
    "boba.sort_values(by='Qty', ascending=False).head()"
   ]
  },
  {
   "cell_type": "code",
   "execution_count": 8,
   "metadata": {},
   "outputs": [
    {
     "data": {
      "text/html": [
       "<div>\n",
       "<style scoped>\n",
       "    .dataframe tbody tr th:only-of-type {\n",
       "        vertical-align: middle;\n",
       "    }\n",
       "\n",
       "    .dataframe tbody tr th {\n",
       "        vertical-align: top;\n",
       "    }\n",
       "\n",
       "    .dataframe thead th {\n",
       "        text-align: right;\n",
       "    }\n",
       "</style>\n",
       "<table border=\"1\" class=\"dataframe\">\n",
       "  <thead>\n",
       "    <tr style=\"text-align: right;\">\n",
       "      <th></th>\n",
       "      <th>Customer ID</th>\n",
       "      <th>Customer Name</th>\n",
       "      <th>Location Code</th>\n",
       "      <th>Order Location</th>\n",
       "      <th>Qty</th>\n",
       "      <th>Short Order Description</th>\n",
       "      <th>Price per Drink</th>\n",
       "      <th>Order Price</th>\n",
       "      <th>Category</th>\n",
       "      <th>Discount</th>\n",
       "      <th>Total Cost</th>\n",
       "    </tr>\n",
       "  </thead>\n",
       "  <tbody>\n",
       "    <tr>\n",
       "      <th>72</th>\n",
       "      <td>CUST0073</td>\n",
       "      <td>Luna Lin</td>\n",
       "      <td>1</td>\n",
       "      <td>Saddle Ridge</td>\n",
       "      <td>3</td>\n",
       "      <td>Brown Sugar, Pudding, 0%, 30%</td>\n",
       "      <td>8.25</td>\n",
       "      <td>24.75</td>\n",
       "      <td>C</td>\n",
       "      <td>0.115</td>\n",
       "      <td>21.90375</td>\n",
       "    </tr>\n",
       "    <tr>\n",
       "      <th>78</th>\n",
       "      <td>CUST0079</td>\n",
       "      <td>Luna Wong</td>\n",
       "      <td>2</td>\n",
       "      <td>Panorama Hills</td>\n",
       "      <td>1</td>\n",
       "      <td>Avocado, Crystal Boba, 30%</td>\n",
       "      <td>8.00</td>\n",
       "      <td>8.00</td>\n",
       "      <td>A</td>\n",
       "      <td>0.095</td>\n",
       "      <td>7.24000</td>\n",
       "    </tr>\n",
       "    <tr>\n",
       "      <th>76</th>\n",
       "      <td>CUST0077</td>\n",
       "      <td>Emma Hoang</td>\n",
       "      <td>1</td>\n",
       "      <td>Saddle Ridge</td>\n",
       "      <td>2</td>\n",
       "      <td>Avocado, Crystal Boba, 30%</td>\n",
       "      <td>8.00</td>\n",
       "      <td>16.00</td>\n",
       "      <td>B</td>\n",
       "      <td>0.105</td>\n",
       "      <td>14.32000</td>\n",
       "    </tr>\n",
       "    <tr>\n",
       "      <th>86</th>\n",
       "      <td>CUST0087</td>\n",
       "      <td>Ethan Pham</td>\n",
       "      <td>2</td>\n",
       "      <td>Panorama Hills</td>\n",
       "      <td>2</td>\n",
       "      <td>Avocado, Crystal Boba, 30%</td>\n",
       "      <td>8.00</td>\n",
       "      <td>16.00</td>\n",
       "      <td>B</td>\n",
       "      <td>0.105</td>\n",
       "      <td>14.32000</td>\n",
       "    </tr>\n",
       "    <tr>\n",
       "      <th>36</th>\n",
       "      <td>CUST0037</td>\n",
       "      <td>Emma Pham</td>\n",
       "      <td>2</td>\n",
       "      <td>Panorama Hills</td>\n",
       "      <td>2</td>\n",
       "      <td>Avocado, Crystal Boba, 30%</td>\n",
       "      <td>8.00</td>\n",
       "      <td>16.00</td>\n",
       "      <td>B</td>\n",
       "      <td>0.105</td>\n",
       "      <td>14.32000</td>\n",
       "    </tr>\n",
       "  </tbody>\n",
       "</table>\n",
       "</div>"
      ],
      "text/plain": [
       "   Customer ID Customer Name  Location Code  Order Location  Qty  \\\n",
       "72    CUST0073      Luna Lin              1    Saddle Ridge    3   \n",
       "78    CUST0079     Luna Wong              2  Panorama Hills    1   \n",
       "76    CUST0077    Emma Hoang              1    Saddle Ridge    2   \n",
       "86    CUST0087    Ethan Pham              2  Panorama Hills    2   \n",
       "36    CUST0037     Emma Pham              2  Panorama Hills    2   \n",
       "\n",
       "          Short Order Description  Price per Drink  Order Price Category  \\\n",
       "72  Brown Sugar, Pudding, 0%, 30%             8.25        24.75        C   \n",
       "78     Avocado, Crystal Boba, 30%             8.00         8.00        A   \n",
       "76     Avocado, Crystal Boba, 30%             8.00        16.00        B   \n",
       "86     Avocado, Crystal Boba, 30%             8.00        16.00        B   \n",
       "36     Avocado, Crystal Boba, 30%             8.00        16.00        B   \n",
       "\n",
       "    Discount  Total Cost  \n",
       "72     0.115    21.90375  \n",
       "78     0.095     7.24000  \n",
       "76     0.105    14.32000  \n",
       "86     0.105    14.32000  \n",
       "36     0.105    14.32000  "
      ]
     },
     "execution_count": 8,
     "metadata": {},
     "output_type": "execute_result"
    }
   ],
   "source": [
    "# Most expensive drink(s)\n",
    "boba.sort_values(by='Price per Drink', ascending=False).head()"
   ]
  },
  {
   "cell_type": "code",
   "execution_count": 9,
   "metadata": {},
   "outputs": [
    {
     "data": {
      "image/png": "[encoded data removed]",
      "text/plain": [
       "<Figure size 432x288 with 1 Axes>"
      ]
     },
     "metadata": {
      "needs_background": "light"
     },
     "output_type": "display_data"
    }
   ],
   "source": [
    "# Boxplot 1: Order Location vs. Total Cost\n",
    "boxplot1 = sns.boxplot(data=boba,\n",
    "                      x='Order Location',\n",
    "                      y= 'Total Cost')\n",
    "boxplot1.set_title('Order Location vs. Total Cost')  # shows how Total Cost varies across locations.\n",
    "\n",
    "plt.show(boxplot1)"
   ]
  },
  {
   "cell_type": "code",
   "execution_count": 10,
   "metadata": {},
   "outputs": [
    {
     "data": {
      "image/png": "[encoded data removed]",
      "text/plain": [
       "<Figure size 432x288 with 1 Axes>"
      ]
     },
     "metadata": {
      "needs_background": "light"
     },
     "output_type": "display_data"
    }
   ],
   "source": [
    "# Boxplot 2: Customer Name vs. Order Price\n",
    "boxplot2 = sns.boxplot(data=boba,\n",
    "                      x='Customer Name',\n",
    "                      y= 'Total Cost')\n",
    "boxplot2.set_title('Customer Name vs. Total Cost')  # shows how much different customers spent per order.\n",
    "\n",
    "plt.show(boxplot2)"
   ]
  },
  {
   "cell_type": "code",
   "execution_count": 11,
   "metadata": {},
   "outputs": [
    {
     "data": {
      "image/png": "[encoded data removed]",
      "text/plain": [
       "<Figure size 432x288 with 1 Axes>"
      ]
     },
     "metadata": {
      "needs_background": "light"
     },
     "output_type": "display_data"
    }
   ],
   "source": [
    "# Boxplot 3: Category vs. Total Cost\n",
    "boxplot3 = sns.boxplot(data=boba,\n",
    "                      x='Category',\n",
    "                      y= 'Total Cost')\n",
    "boxplot3.set_title('Category vs. Total Cost')\n",
    "\n",
    "plt.show(boxplot3)"
   ]
  },
  {
   "cell_type": "code",
   "execution_count": 12,
   "metadata": {},
   "outputs": [
    {
     "data": {
      "image/png": "[encoded data removed]",
      "text/plain": [
       "<Figure size 576x432 with 1 Axes>"
      ]
     },
     "metadata": {
      "needs_background": "light"
     },
     "output_type": "display_data"
    }
   ],
   "source": [
    "# Bar plot: Order Location vs. Total Cost\n",
    "\n",
    "# Group by 'Order Location' and sum of 'Total Cost'\n",
    "sales_by_location = boba.groupby('Order Location')['Total Cost'].sum().reset_index()\n",
    "\n",
    "# Plot\n",
    "plt.figure(figsize=(8,6))\n",
    "sns.barplot(data=sales_by_location,\n",
    "           x= 'Order Location',\n",
    "           y= 'Total Cost')\n",
    "\n",
    "plt.xlabel('Location')\n",
    "plt.ylabel('Total Sales ($)')\n",
    "plt.title('Total Sales ($) by Order Location')\n",
    "plt.xticks(rotation=45)\n",
    "\n",
    "plt.show()"
   ]
  },
  {
   "cell_type": "code",
   "execution_count": 16,
   "metadata": {
    "scrolled": true
   },
   "outputs": [
    {
     "data": {
      "image/png": "[encoded data removed]",
      "text/plain": [
       "<Figure size 576x432 with 1 Axes>"
      ]
     },
     "metadata": {
      "needs_background": "light"
     },
     "output_type": "display_data"
    }
   ],
   "source": [
    "# Bar plot: Top 5 Best-sellers \n",
    "\n",
    "# Count the occurrences of each drink type\n",
    "best_sellers = boba['Short Order Description'].value_counts().head()\n",
    "\n",
    "# Plot\n",
    "plt.figure(figsize=(8,6))\n",
    "best_sellers.plot(kind='barh')\n",
    "\n",
    "plt.xlabel('No. of Orders')\n",
    "plt.ylabel('Drink')\n",
    "plt.title('Top 5 Best-sellers in June 2025')\n",
    "\n",
    "plt.show()"
   ]
  },
  {
   "cell_type": "code",
   "execution_count": 17,
   "metadata": {},
   "outputs": [
    {
     "data": {
      "image/png": "[encoded data removed]",
      "text/plain": [
       "<Figure size 576x432 with 1 Axes>"
      ]
     },
     "metadata": {
      "needs_background": "light"
     },
     "output_type": "display_data"
    }
   ],
   "source": [
    "# Scatter plot (Qty vs. Total Cost)\n",
    "\n",
    "plt.figure(figsize=(8,6))\n",
    "plt.scatter(boba['Qty'], boba['Total Cost'])\n",
    "\n",
    "plt.xlabel('Quantity')\n",
    "plt.ylabel('Total Cost ($)')\n",
    "plt.title('Quantity vs. Total Cost ($)')\n",
    "\n",
    "plt.show()"
   ]
  },
  {
   "cell_type": "code",
   "execution_count": 22,
   "metadata": {},
   "outputs": [
    {
     "data": {
      "image/png": "[encoded data removed]",
      "text/plain": [
       "<Figure size 288x288 with 1 Axes>"
      ]
     },
     "metadata": {},
     "output_type": "display_data"
    }
   ],
   "source": [
    "# PIE chart (Location vs. Total Cost)\n",
    "sales_by_location = boba.groupby('Order Location')['Total Cost'].sum()\n",
    "\n",
    "# Create the pie chart\n",
    "plt.figure(figsize=(4, 4))\n",
    "plt.pie(\n",
    "    sales_by_location,\n",
    "    labels= sales_by_location.index,\n",
    "    autopct= '%1.1f%%',\n",
    "    startangle= 90\n",
    ")\n",
    "\n",
    "plt.title('Total Sales by Order Location')\n",
    "plt.show()"
   ]
  },
  {
   "cell_type": "code",
   "execution_count": 23,
   "metadata": {},
   "outputs": [
    {
     "data": {
      "image/png": "[encoded data removed]",
      "text/plain": [
       "<Figure size 288x288 with 1 Axes>"
      ]
     },
     "metadata": {},
     "output_type": "display_data"
    }
   ],
   "source": [
    "# PIE Chart: Category vs. Total Cost\n",
    "discount_by_category = boba.groupby('Category')['Total Cost'].sum()\n",
    "\n",
    "# Create the pie chart\n",
    "plt.figure(figsize=(4, 4))\n",
    "plt.pie(\n",
    "    discount_by_category,\n",
    "    labels= discount_by_category.index,\n",
    "    autopct= '%1.1f%%',\n",
    "    startangle= 90\n",
    ")\n",
    "\n",
    "plt.title('Discount % by Category')\n",
    "plt.show()"
   ]
  },
  {
   "cell_type": "code",
   "execution_count": null,
   "metadata": {},
   "outputs": [],
   "source": [
    "# END."
   ]
  },
  {
   "cell_type": "code",
   "execution_count": null,
   "metadata": {},
   "outputs": [],
   "source": []
  },
  {
   "cell_type": "code",
   "execution_count": null,
   "metadata": {},
   "outputs": [],
   "source": []
  },
  {
   "cell_type": "code",
   "execution_count": null,
   "metadata": {},
   "outputs": [],
   "source": []
  },
  {
   "cell_type": "code",
   "execution_count": null,
   "metadata": {},
   "outputs": [],
   "source": []
  },
  {
   "cell_type": "code",
   "execution_count": null,
   "metadata": {},
   "outputs": [],
   "source": []
  },
  {
   "cell_type": "code",
   "execution_count": null,
   "metadata": {},
   "outputs": [],
   "source": []
  },
  {
   "cell_type": "code",
   "execution_count": null,
   "metadata": {},
   "outputs": [],
   "source": []
  },
  {
   "cell_type": "code",
   "execution_count": null,
   "metadata": {},
   "outputs": [],
   "source": []
  },
  {
   "cell_type": "code",
   "execution_count": null,
   "metadata": {},
   "outputs": [],
   "source": []
  },
  {
   "cell_type": "code",
   "execution_count": null,
   "metadata": {},
   "outputs": [],
   "source": []
  },
  {
   "cell_type": "code",
   "execution_count": null,
   "metadata": {},
   "outputs": [],
   "source": []
  },
  {
   "cell_type": "code",
   "execution_count": null,
   "metadata": {},
   "outputs": [],
   "source": []
  },
  {
   "cell_type": "code",
   "execution_count": null,
   "metadata": {},
   "outputs": [],
   "source": []
  },
  {
   "cell_type": "code",
   "execution_count": null,
   "metadata": {},
   "outputs": [],
   "source": []
  },
  {
   "cell_type": "code",
   "execution_count": null,
   "metadata": {},
   "outputs": [],
   "source": []
  },
  {
   "cell_type": "code",
   "execution_count": null,
   "metadata": {},
   "outputs": [],
   "source": []
  },
  {
   "cell_type": "code",
   "execution_count": null,
   "metadata": {},
   "outputs": [],
   "source": []
  }
 ],
 "metadata": {
  "kernelspec": {
   "display_name": "Python 3",
   "language": "python",
   "name": "python3"
  },
  "language_info": {
   "codemirror_mode": {
    "name": "ipython",
    "version": 3
   },
   "file_extension": ".py",
   "mimetype": "text/x-python",
   "name": "python",
   "nbconvert_exporter": "python",
   "pygments_lexer": "ipython3",
   "version": "3.7.6"
  }
 },
 "nbformat": 4,
 "nbformat_minor": 4
}
